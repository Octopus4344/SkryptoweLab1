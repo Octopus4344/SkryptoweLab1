{
 "cells": [
  {
   "cell_type": "code",
   "execution_count": 1,
   "id": "fe9483aa-1753-4466-a916-9e17bfe6e1e5",
   "metadata": {},
   "outputs": [
    {
     "name": "stdout",
     "output_type": "stream",
     "text": [
      "Hello, World\n"
     ]
    }
   ],
   "source": [
    "name = \"World\"\n",
    "print(f\"Hello, {name}\")\n"
   ]
  },
  {
   "cell_type": "markdown",
   "id": "7115050c-d03d-41fc-82ec-f5a98b8f6aff",
   "metadata": {},
   "source": [
    "#Moja aplikacja w języku Python Oto mój pierwszy notes Jupyter.\n"
   ]
  },
  {
   "cell_type": "code",
   "execution_count": null,
   "id": "06c1a9b7-d8a1-467d-9b7e-465c2be540b6",
   "metadata": {},
   "outputs": [],
   "source": []
  }
 ],
 "metadata": {
  "kernelspec": {
   "display_name": "Python 3 (ipykernel)",
   "language": "python",
   "name": "python3"
  },
  "language_info": {
   "codemirror_mode": {
    "name": "ipython",
    "version": 3
   },
   "file_extension": ".py",
   "mimetype": "text/x-python",
   "name": "python",
   "nbconvert_exporter": "python",
   "pygments_lexer": "ipython3",
   "version": "3.12.2"
  }
 },
 "nbformat": 4,
 "nbformat_minor": 5
}
